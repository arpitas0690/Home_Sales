{
  "cells": [
    {
      "cell_type": "code",
      "execution_count": 1,
      "metadata": {
        "colab": {
          "base_uri": "https://localhost:8080/"
        },
        "id": "a_KW73O2e3dw",
        "outputId": "b6bf0aa3-eafc-4d54-962d-8ab319bceafc"
      },
      "outputs": [
        {
          "output_type": "stream",
          "name": "stdout",
          "text": [
            "\r0% [Working]\r            \rGet:1 https://cloud.r-project.org/bin/linux/ubuntu jammy-cran40/ InRelease [3,626 B]\n",
            "Get:2 https://developer.download.nvidia.com/compute/cuda/repos/ubuntu2204/x86_64  InRelease [1,581 B]\n",
            "Hit:3 http://archive.ubuntu.com/ubuntu jammy InRelease\n",
            "Get:4 http://security.ubuntu.com/ubuntu jammy-security InRelease [110 kB]\n",
            "Get:5 http://archive.ubuntu.com/ubuntu jammy-updates InRelease [119 kB]\n",
            "Get:6 https://developer.download.nvidia.com/compute/cuda/repos/ubuntu2204/x86_64  Packages [673 kB]\n",
            "Hit:7 https://ppa.launchpadcontent.net/c2d4u.team/c2d4u4.0+/ubuntu jammy InRelease\n",
            "Hit:8 https://ppa.launchpadcontent.net/deadsnakes/ppa/ubuntu jammy InRelease\n",
            "Hit:9 https://ppa.launchpadcontent.net/graphics-drivers/ppa/ubuntu jammy InRelease\n",
            "Get:10 http://archive.ubuntu.com/ubuntu jammy-backports InRelease [109 kB]\n",
            "Hit:11 https://ppa.launchpadcontent.net/ubuntugis/ppa/ubuntu jammy InRelease\n",
            "Get:12 http://security.ubuntu.com/ubuntu jammy-security/universe amd64 Packages [1,065 kB]\n",
            "Get:13 http://archive.ubuntu.com/ubuntu jammy-updates/main amd64 Packages [1,728 kB]\n",
            "Get:14 http://security.ubuntu.com/ubuntu jammy-security/restricted amd64 Packages [1,751 kB]\n",
            "Get:15 http://security.ubuntu.com/ubuntu jammy-security/main amd64 Packages [1,440 kB]\n",
            "Get:16 http://archive.ubuntu.com/ubuntu jammy-updates/restricted amd64 Packages [1,810 kB]\n",
            "Get:17 http://archive.ubuntu.com/ubuntu jammy-updates/universe amd64 Packages [1,335 kB]\n",
            "Get:18 http://archive.ubuntu.com/ubuntu jammy-backports/universe amd64 Packages [28.1 kB]\n",
            "Fetched 10.2 MB in 2s (4,441 kB/s)\n",
            "Reading package lists... Done\n"
          ]
        }
      ],
      "source": [
        "import os\n",
        "# Find the latest version of spark 3.x  from http://www.apache.org/dist/spark/ and enter as the spark version\n",
        "# For example:\n",
        "# spark_version = 'spark-3.4.2'\n",
        "spark_version = 'spark-3.4.2'\n",
        "os.environ['SPARK_VERSION']=spark_version\n",
        "\n",
        "# Install Spark and Java\n",
        "!apt-get update\n",
        "!apt-get install openjdk-11-jdk-headless -qq > /dev/null\n",
        "!wget -q http://www.apache.org/dist/spark/$SPARK_VERSION/$SPARK_VERSION-bin-hadoop3.tgz\n",
        "!tar xf $SPARK_VERSION-bin-hadoop3.tgz\n",
        "!pip install -q findspark\n",
        "\n",
        "# Set Environment Variables\n",
        "os.environ[\"JAVA_HOME\"] = \"/usr/lib/jvm/java-11-openjdk-amd64\"\n",
        "os.environ[\"SPARK_HOME\"] = f\"/content/{spark_version}-bin-hadoop3\"\n",
        "\n",
        "# Start a SparkSession\n",
        "import findspark\n",
        "findspark.init()"
      ]
    },
    {
      "cell_type": "code",
      "execution_count": 2,
      "metadata": {
        "id": "2XbWNf1Te5fM"
      },
      "outputs": [],
      "source": [
        "# Import packages\n",
        "from pyspark.sql import SparkSession\n",
        "import time\n",
        "\n",
        "# Create a SparkSession\n",
        "spark = SparkSession.builder.appName(\"SparkSQL\").getOrCreate()"
      ]
    },
    {
      "cell_type": "code",
      "execution_count": 3,
      "metadata": {
        "id": "wOJqxG_RPSwp"
      },
      "outputs": [],
      "source": [
        "# 1. Read in the AWS S3 bucket into a DataFrame.\n",
        "from pyspark import SparkFiles\n",
        "url = \"https://2u-data-curriculum-team.s3.amazonaws.com/dataviz-classroom/v1.2/22-big-data/home_sales_revised.csv\"\n",
        "\n"
      ]
    },
    {
      "cell_type": "code",
      "execution_count": 4,
      "metadata": {
        "id": "RoljcJ7WPpnm",
        "colab": {
          "base_uri": "https://localhost:8080/"
        },
        "outputId": "9ae27e50-b9b9-41dc-b502-220ef1f3dfdd"
      },
      "outputs": [
        {
          "output_type": "stream",
          "name": "stdout",
          "text": [
            "+--------------------+----------+----------+------+--------+---------+-----------+--------+------+----------+----+\n",
            "|                  id|      date|date_built| price|bedrooms|bathrooms|sqft_living|sqft_lot|floors|waterfront|view|\n",
            "+--------------------+----------+----------+------+--------+---------+-----------+--------+------+----------+----+\n",
            "|f8a53099-ba1c-47d...|2022-04-08|      2016|936923|       4|        3|       3167|   11733|     2|         1|  76|\n",
            "|7530a2d8-1ae3-451...|2021-06-13|      2013|379628|       2|        2|       2235|   14384|     1|         0|  23|\n",
            "|43de979c-0bf0-4c9...|2019-04-12|      2014|417866|       2|        2|       2127|   10575|     2|         0|   0|\n",
            "|b672c137-b88c-48b...|2019-10-16|      2016|239895|       2|        2|       1631|   11149|     2|         0|   0|\n",
            "|e0726d4d-d595-407...|2022-01-08|      2017|424418|       3|        2|       2249|   13878|     2|         0|   4|\n",
            "|5aa00529-0533-46b...|2019-01-30|      2017|218712|       2|        3|       1965|   14375|     2|         0|   7|\n",
            "|131492a1-72e2-4a8...|2020-02-08|      2017|419199|       2|        3|       2062|    8876|     2|         0|   6|\n",
            "|8d54a71b-c520-44e...|2019-07-21|      2010|323956|       2|        3|       1506|   11816|     1|         0|  25|\n",
            "|e81aacfe-17fe-46b...|2020-06-16|      2016|181925|       3|        3|       2137|   11709|     2|         0|  22|\n",
            "|2ed8d509-7372-46d...|2021-08-06|      2015|258710|       3|        3|       1918|    9666|     1|         0|  25|\n",
            "|f876d86f-3c9f-42b...|2019-02-27|      2011|167864|       3|        3|       2471|   13924|     2|         0|  15|\n",
            "|0a2bd445-8508-4d8...|2021-12-30|      2014|337527|       2|        3|       1926|   12556|     1|         0|  23|\n",
            "|941bad30-eb49-4a7...|2020-05-09|      2015|229896|       3|        3|       2197|    8641|     1|         0|   3|\n",
            "|dd61eb34-6589-4c0...|2021-07-25|      2016|210247|       3|        2|       1672|   11986|     2|         0|  28|\n",
            "|f1e4cef7-d151-439...|2019-02-01|      2011|398667|       2|        3|       2331|   11356|     1|         0|   7|\n",
            "|ea620c7b-c2f7-4c6...|2021-05-31|      2011|437958|       3|        3|       2356|   11052|     1|         0|  26|\n",
            "|f233cb41-6f33-4b0...|2021-07-18|      2016|437375|       4|        3|       1704|   11721|     2|         0|  34|\n",
            "|c797ca12-52cd-4b1...|2019-06-08|      2015|288650|       2|        3|       2100|   10419|     2|         0|   7|\n",
            "|0cfe57f3-28c2-472...|2019-10-04|      2015|308313|       3|        3|       1960|    9453|     2|         0|   2|\n",
            "|4566cd2a-ac6e-435...|2019-07-15|      2016|177541|       3|        3|       2130|   10517|     2|         0|  25|\n",
            "+--------------------+----------+----------+------+--------+---------+-----------+--------+------+----------+----+\n",
            "only showing top 20 rows\n",
            "\n"
          ]
        }
      ],
      "source": [
        "# 2. Create a temporary view of the DataFrame.\n",
        "spark.sparkContext.addFile(url)\n",
        "df = spark.read.csv(SparkFiles.get(\"home_sales_revised.csv\"), sep=\",\", header=True)\n",
        "df.show()\n",
        "\n"
      ]
    },
    {
      "cell_type": "code",
      "source": [
        "df.createOrReplaceTempView('home_sales')"
      ],
      "metadata": {
        "id": "2VgYhpVfj6F6"
      },
      "execution_count": 5,
      "outputs": []
    },
    {
      "cell_type": "code",
      "source": [
        "df.printSchema()"
      ],
      "metadata": {
        "colab": {
          "base_uri": "https://localhost:8080/"
        },
        "id": "3MICNX79_cmT",
        "outputId": "743a7811-e9a3-44fd-f579-e7263dbbf9a4"
      },
      "execution_count": 6,
      "outputs": [
        {
          "output_type": "stream",
          "name": "stdout",
          "text": [
            "root\n",
            " |-- id: string (nullable = true)\n",
            " |-- date: string (nullable = true)\n",
            " |-- date_built: string (nullable = true)\n",
            " |-- price: string (nullable = true)\n",
            " |-- bedrooms: string (nullable = true)\n",
            " |-- bathrooms: string (nullable = true)\n",
            " |-- sqft_living: string (nullable = true)\n",
            " |-- sqft_lot: string (nullable = true)\n",
            " |-- floors: string (nullable = true)\n",
            " |-- waterfront: string (nullable = true)\n",
            " |-- view: string (nullable = true)\n",
            "\n"
          ]
        }
      ]
    },
    {
      "cell_type": "code",
      "source": [
        "#Converting the data types of teh following columns\n",
        "from pyspark.sql.functions import col, year\n",
        "from pyspark.sql.types import DateType\n",
        "from pyspark.sql.types import IntegerType\n",
        "\n",
        "df = df.withColumn(\"date\", col(\"date\").cast(\"date\"))\n",
        "df = df.withColumn(\"price\", df[\"price\"].cast(IntegerType()))\n",
        "df = df.withColumn(\"bedrooms\", df[\"bedrooms\"].cast(IntegerType()))\n",
        "df = df.withColumn(\"bathrooms\", df[\"bathrooms\"].cast(IntegerType()))\n",
        "df = df.withColumn(\"sqft_living\", df[\"sqft_living\"].cast(IntegerType()))\n",
        "df = df.withColumn(\"sqft_lot\", df[\"sqft_lot\"].cast(IntegerType()))\n",
        "df = df.withColumn(\"floors\", df[\"floors\"].cast(IntegerType()))\n",
        "df = df.withColumn(\"view\", df[\"view\"].cast(IntegerType()))\n",
        "\n",
        "# Extract the year from the \"date\" column\n",
        "df = df.withColumn(\"year\", year(\"date\"))\n",
        "\n",
        "\n",
        "df.printSchema()\n"
      ],
      "metadata": {
        "colab": {
          "base_uri": "https://localhost:8080/"
        },
        "id": "ObfvF6EH_fgH",
        "outputId": "0ed728f6-512e-4c7d-95a9-7cd441f53804"
      },
      "execution_count": 7,
      "outputs": [
        {
          "output_type": "stream",
          "name": "stdout",
          "text": [
            "root\n",
            " |-- id: string (nullable = true)\n",
            " |-- date: date (nullable = true)\n",
            " |-- date_built: string (nullable = true)\n",
            " |-- price: integer (nullable = true)\n",
            " |-- bedrooms: integer (nullable = true)\n",
            " |-- bathrooms: integer (nullable = true)\n",
            " |-- sqft_living: integer (nullable = true)\n",
            " |-- sqft_lot: integer (nullable = true)\n",
            " |-- floors: integer (nullable = true)\n",
            " |-- waterfront: string (nullable = true)\n",
            " |-- view: integer (nullable = true)\n",
            " |-- year: integer (nullable = true)\n",
            "\n"
          ]
        }
      ]
    },
    {
      "cell_type": "code",
      "execution_count": 8,
      "metadata": {
        "id": "L6fkwOeOmqvq",
        "colab": {
          "base_uri": "https://localhost:8080/"
        },
        "outputId": "788d08a8-73e5-4ffa-c852-4bba044b38eb"
      },
      "outputs": [
        {
          "output_type": "stream",
          "name": "stdout",
          "text": [
            "+----+------------------+\n",
            "|year|        avg(price)|\n",
            "+----+------------------+\n",
            "|2022| 296363.8845050215|\n",
            "|2019| 300263.6955128205|\n",
            "|2020|298353.78003169573|\n",
            "|2021|   301819.44398864|\n",
            "+----+------------------+\n",
            "\n",
            "+----+----------+\n",
            "|year|avg(price)|\n",
            "+----+----------+\n",
            "|2022|296,363.88|\n",
            "|2019|300,263.70|\n",
            "|2020|298,353.78|\n",
            "|2021|301,819.44|\n",
            "+----+----------+\n",
            "\n"
          ]
        }
      ],
      "source": [
        "# 3. What is the average price for a four bedroom house sold in each year rounded to two decimal places?\n",
        "from pyspark.sql.functions import mean, format_number\n",
        "\n",
        "\n",
        "#Filtering data to just look at homes with a four bedroom\n",
        "four_bedroom = df.filter(\"bedrooms = 4\")\n",
        "\n",
        "#Calculating the median price of a four bedroom house for each year\n",
        "four_bedroom_by_year = four_bedroom.groupBy(\"year\").avg(\"price\")\n",
        "four_bedroom_by_year.show()\n",
        "\n",
        "# Format the \"price\" column to two decimal places\n",
        "formatted_df = four_bedroom_by_year.withColumn(\"avg(price)\", format_number(\"avg(price)\", 2))\n",
        "\n",
        "# Show the result\n",
        "formatted_df.show(truncate=False)\n",
        "\n"
      ]
    },
    {
      "cell_type": "code",
      "execution_count": 9,
      "metadata": {
        "id": "l8p_tUS8h8it",
        "colab": {
          "base_uri": "https://localhost:8080/"
        },
        "outputId": "07d97b77-f859-4524-f310-1bd9d3636402"
      },
      "outputs": [
        {
          "output_type": "stream",
          "name": "stdout",
          "text": [
            "+--------------------+----------+----------+------+--------+---------+-----------+--------+------+----------+----+----+\n",
            "|                  id|      date|date_built| price|bedrooms|bathrooms|sqft_living|sqft_lot|floors|waterfront|view|year|\n",
            "+--------------------+----------+----------+------+--------+---------+-----------+--------+------+----------+----+----+\n",
            "|e81aacfe-17fe-46b...|2020-06-16|      2016|181925|       3|        3|       2137|   11709|     2|         0|  22|2020|\n",
            "|2ed8d509-7372-46d...|2021-08-06|      2015|258710|       3|        3|       1918|    9666|     1|         0|  25|2021|\n",
            "|f876d86f-3c9f-42b...|2019-02-27|      2011|167864|       3|        3|       2471|   13924|     2|         0|  15|2019|\n",
            "|941bad30-eb49-4a7...|2020-05-09|      2015|229896|       3|        3|       2197|    8641|     1|         0|   3|2020|\n",
            "|ea620c7b-c2f7-4c6...|2021-05-31|      2011|437958|       3|        3|       2356|   11052|     1|         0|  26|2021|\n",
            "|0cfe57f3-28c2-472...|2019-10-04|      2015|308313|       3|        3|       1960|    9453|     2|         0|   2|2019|\n",
            "|4566cd2a-ac6e-435...|2019-07-15|      2016|177541|       3|        3|       2130|   10517|     2|         0|  25|2019|\n",
            "|50873b8b-92b8-44c...|2022-06-05|      2017|268554|       3|        3|       1962|   13955|     2|         0|   6|2022|\n",
            "|e0fc52aa-c349-4ba...|2019-04-17|      2016|202790|       3|        3|       2025|   10987|     2|         0|  19|2019|\n",
            "|e252c4ce-b5b2-4ef...|2019-10-28|      2014|168463|       3|        3|       2271|    8317|     2|         0|   2|2019|\n",
            "|a16c1fd3-50c3-4e7...|2020-02-12|      2014|372151|       3|        3|       1787|   12012|     2|         0|  16|2020|\n",
            "|0ffe23e3-9d0f-442...|2021-11-18|      2017|429183|       3|        3|       2162|   12567|     1|         0|  49|2021|\n",
            "|bb2ff269-f08f-4e8...|2022-03-06|      2010|429030|       3|        3|       2049|   11882|     2|         0|  23|2022|\n",
            "|77a2d239-67a3-43b...|2021-06-18|      2016|396508|       3|        3|       1890|   10081|     2|         0|  25|2021|\n",
            "|34c31a34-220d-469...|2019-02-06|      2015|409011|       3|        3|       2356|   10507|     1|         0|   1|2019|\n",
            "|7acb88a1-8a4f-4a7...|2019-03-31|      2016|351363|       3|        3|       1771|   13037|     2|         0|  13|2019|\n",
            "|d03391c1-cfd4-4d1...|2022-04-01|      2011|158791|       3|        3|       2371|   12585|     2|         0|  23|2022|\n",
            "|0c686512-f14e-450...|2022-06-12|      2013|391189|       3|        3|       1552|    9659|     2|         0|  31|2022|\n",
            "|24ba1e84-88a6-4e3...|2019-09-17|      2017|207869|       3|        3|       1768|   11426|     1|         0|  12|2019|\n",
            "|00ce46df-952c-4ce...|2020-05-11|      2016|430471|       3|        3|       1935|   13334|     2|         0|  10|2020|\n",
            "+--------------------+----------+----------+------+--------+---------+-----------+--------+------+----------+----+----+\n",
            "only showing top 20 rows\n",
            "\n",
            "+----+------------------+\n",
            "|year|        avg(price)|\n",
            "+----+------------------+\n",
            "|2022| 292725.6931818182|\n",
            "|2019|287287.81696428574|\n",
            "|2020| 294204.1629104958|\n",
            "|2021| 294211.4595798854|\n",
            "+----+------------------+\n",
            "\n",
            "+----+----------+\n",
            "|year|avg(price)|\n",
            "+----+----------+\n",
            "|2022|296,363.88|\n",
            "|2019|300,263.70|\n",
            "|2020|298,353.78|\n",
            "|2021|301,819.44|\n",
            "+----+----------+\n",
            "\n"
          ]
        }
      ],
      "source": [
        "# 4. What is the average price of a home for each year the home was built that have 3 bedrooms and 3 bathrooms rounded to two decimal places?\n",
        "\n",
        "#Filtering the data to three bedrooms and 3 bathrooms\n",
        "three_bed_bath = df.filter((col(\"bedrooms\")==3) & (col(\"bathrooms\")==3))\n",
        "three_bed_bath.show()\n",
        "\n",
        "#Calculating the median price of a 3 bedroom and 3 bathroom for each year\n",
        "three_bed_bath_by_year = three_bed_bath.groupBy(\"year\").avg(\"price\")\n",
        "three_bed_bath_by_year.show()\n",
        "\n",
        "#Formatting price column to two decimal places\n",
        "formatted_price = three_bed_bath_by_year.withColumn(\"avg(price)\", format_number(\"avg(price)\", 2))\n",
        "\n",
        "#Show the result\n",
        "formatted_df.show(truncate=False)"
      ]
    },
    {
      "cell_type": "code",
      "execution_count": 24,
      "metadata": {
        "id": "Y-Eytz64liDU",
        "colab": {
          "base_uri": "https://localhost:8080/"
        },
        "outputId": "a3f0875d-221b-4739-f5c9-dee24d2b3344"
      },
      "outputs": [
        {
          "output_type": "stream",
          "name": "stdout",
          "text": [
            "+--------------------+----------+----------+------+--------+---------+-----------+--------+------+----------+----+----+\n",
            "|                  id|      date|date_built| price|bedrooms|bathrooms|sqft_living|sqft_lot|floors|waterfront|view|year|\n",
            "+--------------------+----------+----------+------+--------+---------+-----------+--------+------+----------+----+----+\n",
            "|e81aacfe-17fe-46b...|2020-06-16|      2016|181925|       3|        3|       2137|   11709|     2|         0|  22|2020|\n",
            "|f876d86f-3c9f-42b...|2019-02-27|      2011|167864|       3|        3|       2471|   13924|     2|         0|  15|2019|\n",
            "|4566cd2a-ac6e-435...|2019-07-15|      2016|177541|       3|        3|       2130|   10517|     2|         0|  25|2019|\n",
            "|e0fc52aa-c349-4ba...|2019-04-17|      2016|202790|       3|        3|       2025|   10987|     2|         0|  19|2019|\n",
            "|e252c4ce-b5b2-4ef...|2019-10-28|      2014|168463|       3|        3|       2271|    8317|     2|         0|   2|2019|\n",
            "|bb2ff269-f08f-4e8...|2022-03-06|      2010|429030|       3|        3|       2049|   11882|     2|         0|  23|2022|\n",
            "|d03391c1-cfd4-4d1...|2022-04-01|      2011|158791|       3|        3|       2371|   12585|     2|         0|  23|2022|\n",
            "|2792bb6d-ea02-4e2...|2021-02-09|      2010|360444|       3|        3|       2383|   12503|     2|         0|  29|2021|\n",
            "|1fc8277d-ac34-424...|2022-04-26|      2017|254527|       3|        3|       2226|   14060|     2|         0|  42|2022|\n",
            "|c2be38fb-814a-403...|2020-03-20|      2015|352237|       3|        3|       2485|   10954|     2|         0|   6|2020|\n",
            "|a4a1a614-ad3c-4f8...|2021-01-11|      2015|425489|       3|        3|       2051|    9161|     2|         0|  26|2021|\n",
            "|ce519c6e-701a-4a2...|2022-03-05|      2015|236997|       3|        3|       2487|   11245|     2|         0|  21|2022|\n",
            "|6538df3c-c572-462...|2022-06-09|      2016|267870|       3|        3|       2472|   14278|     2|         0|  41|2022|\n",
            "|35b76ec7-acb2-414...|2019-10-25|      2011|395216|       3|        3|       2262|   14606|     2|         0|  29|2019|\n",
            "|f90159cd-a594-476...|2021-05-26|      2012|370767|       3|        3|       2377|   11272|     2|         0|  12|2021|\n",
            "|e465b697-4836-4b1...|2019-01-05|      2015|134866|       3|        3|       2349|   11703|     2|         0|  40|2019|\n",
            "|2d14ecd6-8bf4-4ff...|2021-12-17|      2016|374508|       3|        3|       2025|   14006|     2|         0|  17|2021|\n",
            "|c97e7ca7-ae79-4c8...|2022-03-10|      2014|351896|       3|        3|       2008|    9974|     2|         0|  29|2022|\n",
            "|ffff94aa-797c-49e...|2019-07-18|      2010|402063|       3|        3|       2148|   11188|     2|         0|  15|2019|\n",
            "|b377baf4-cc12-4bd...|2019-08-25|      2017|317951|       3|        3|       2355|   11386|     2|         0|  11|2019|\n",
            "+--------------------+----------+----------+------+--------+---------+-----------+--------+------+----------+----+----+\n",
            "only showing top 20 rows\n",
            "\n",
            "+----+-----------------+\n",
            "|year|       avg(price)|\n",
            "+----+-----------------+\n",
            "|2022|290242.9879518072|\n",
            "|2019|289859.1354679803|\n",
            "|2020|292289.0895140665|\n",
            "|2021|296330.9612590799|\n",
            "+----+-----------------+\n",
            "\n",
            "+----+----------+\n",
            "|year|avg(price)|\n",
            "+----+----------+\n",
            "|2022|290,242.99|\n",
            "|2019|289,859.14|\n",
            "|2020|292,289.09|\n",
            "|2021|296,330.96|\n",
            "+----+----------+\n",
            "\n"
          ]
        }
      ],
      "source": [
        "# 5. What is the average price of a home for each year built that have 3 bedrooms, 3 bathrooms, with two floors,\n",
        "# and are greater than or equal to 2,000 square feet rounded to two decimal places?\n",
        "\n",
        "#Filtering to three bedroom, three bath, with 2 floors and greater than or equal to 2,000 sqft.\n",
        "two_floors_2000sqft = three_bed_bath.filter((col(\"floors\") == 2) & (col(\"sqft_living\")>=2000))\n",
        "two_floors_2000sqft.show()\n",
        "\n",
        "#Calculating the average price of a 3 bed, 3 bath, with 2 floors for each year\n",
        "two_floors_2000sqft_by_year = two_floors_2000sqft.groupBy(\"year\").avg(\"price\")\n",
        "two_floors_2000sqft_by_year.show()\n",
        "\n",
        "#Formatting prices to two places after decimal\n",
        "formatted_price = two_floors_2000sqft_by_year.withColumn(\"avg(price)\", format_number(\"avg(price)\", 2))\n",
        "\n",
        "#Show result\n",
        "formatted_price.show(truncate = False)"
      ]
    },
    {
      "cell_type": "code",
      "execution_count": 11,
      "metadata": {
        "colab": {
          "base_uri": "https://localhost:8080/"
        },
        "id": "GUrfgOX1pCRd",
        "outputId": "bf607435-bd0a-4b1a-99df-cb2d79ce1804"
      },
      "outputs": [
        {
          "output_type": "stream",
          "name": "stdout",
          "text": [
            "+--------------------+----+\n",
            "|round(avg(price), 2)|view|\n",
            "+--------------------+----+\n",
            "|          1061201.42|  99|\n",
            "|          1053739.33|  98|\n",
            "|          1129040.15|  97|\n",
            "|          1017815.92|  96|\n",
            "|           1054325.6|  95|\n",
            "|           1033536.2|  94|\n",
            "|          1026006.06|  93|\n",
            "|           970402.55|  92|\n",
            "|          1137372.73|  91|\n",
            "|          1062654.16|  90|\n",
            "|          1107839.15|  89|\n",
            "|          1031719.35|  88|\n",
            "|           1072285.2|  87|\n",
            "|          1070444.25|  86|\n",
            "|          1056336.74|  85|\n",
            "|          1117233.13|  84|\n",
            "|          1033965.93|  83|\n",
            "|           1063498.0|  82|\n",
            "|          1053472.79|  81|\n",
            "|           991767.38|  80|\n",
            "+--------------------+----+\n",
            "only showing top 20 rows\n",
            "\n",
            "--- 1.6999609470367432 seconds ---\n"
          ]
        }
      ],
      "source": [
        "# 6. What is the \"view\" rating for the average price of a home, rounded to two decimal places, where the homes are greater than\n",
        "# or equal to $350,000? Although this is a small dataset, determine the run time for this query.\n",
        "\n",
        "start_time = time.time()\n",
        "\n",
        "query_sql = \"\"\"\n",
        "SELECT (ROUND(AVG(price), 2)), view\n",
        " FROM home_sales\n",
        " GROUP BY view\n",
        " HAVING AVG(price)>=350000\n",
        " ORDER BY view desc\n",
        " \"\"\"\n",
        "\n",
        "spark.sql(query_sql).show()\n",
        "\n",
        "\n",
        "print(\"--- %s seconds ---\" % (time.time() - start_time))"
      ]
    },
    {
      "cell_type": "code",
      "execution_count": 13,
      "metadata": {
        "id": "KAhk3ZD2tFy8",
        "colab": {
          "base_uri": "https://localhost:8080/"
        },
        "outputId": "6b280452-adef-4e4a-b41d-69bba4bee1fe"
      },
      "outputs": [
        {
          "output_type": "execute_result",
          "data": {
            "text/plain": [
              "DataFrame[]"
            ]
          },
          "metadata": {},
          "execution_count": 13
        }
      ],
      "source": [
        "# 7. Cache the the temporary table home_sales.\n",
        "spark.sql('cache table home_sales')\n"
      ]
    },
    {
      "cell_type": "code",
      "execution_count": 16,
      "metadata": {
        "id": "4opVhbvxtL-i",
        "colab": {
          "base_uri": "https://localhost:8080/"
        },
        "outputId": "ce342848-8487-4eba-f387-47ed7b4959cd"
      },
      "outputs": [
        {
          "output_type": "execute_result",
          "data": {
            "text/plain": [
              "True"
            ]
          },
          "metadata": {},
          "execution_count": 16
        }
      ],
      "source": [
        "# 8. Check if the table is cached.\n",
        "spark.catalog.isCached('home_sales')"
      ]
    },
    {
      "cell_type": "code",
      "execution_count": 17,
      "metadata": {
        "colab": {
          "base_uri": "https://localhost:8080/"
        },
        "id": "5GnL46lwTSEk",
        "outputId": "ef031809-2c87-492b-bd36-cee5d0691360"
      },
      "outputs": [
        {
          "output_type": "stream",
          "name": "stdout",
          "text": [
            "--- 0.00011229515075683594 seconds ---\n"
          ]
        }
      ],
      "source": [
        "# 9. Using the cached data, run the query that filters out the view ratings with average price\n",
        "#  greater than or equal to $350,000. Determine the runtime and compare it to uncached runtime.\n",
        "\n",
        "start_time = time.time()\n",
        "\n",
        "query_sql = \"\"\"\n",
        "SELECT (ROUND(AVG(price), 2)), view\n",
        " FROM home_sales\n",
        " GROUP BY view\n",
        " HAVING AVG(price)>=350000\n",
        " ORDER BY view desc\n",
        " \"\"\"\n",
        "\n",
        "print(\"--- %s seconds ---\" % (time.time() - start_time))\n"
      ]
    },
    {
      "cell_type": "markdown",
      "source": [
        "#The run time for the cached data is 0.0001, compared to the original runtime of 1.7000. This is significantly faster than the original runtime indicating that caching the data can make queries much faster."
      ],
      "metadata": {
        "id": "trXRTA75MN2i"
      }
    },
    {
      "cell_type": "code",
      "execution_count": 18,
      "metadata": {
        "id": "Qm12WN9isHBR"
      },
      "outputs": [],
      "source": [
        "# 10. Partition by the \"date_built\" field on the formatted parquet home sales data\n",
        "df.write.partitionBy(\"date_built\").mode(\"overwrite\").parquet(\"date_built_partitioned\")"
      ]
    },
    {
      "cell_type": "code",
      "execution_count": 19,
      "metadata": {
        "id": "AZ7BgY61sRqY"
      },
      "outputs": [],
      "source": [
        "# 11. Read the parquet formatted data.\n",
        "p_df=spark.read.parquet('date_built_partitioned')"
      ]
    },
    {
      "cell_type": "code",
      "execution_count": 20,
      "metadata": {
        "id": "J6MJkHfvVcvh"
      },
      "outputs": [],
      "source": [
        "# 12. Create a temporary table for the parquet data.\n",
        "p_df.createOrReplaceTempView('p_date_built_p')"
      ]
    },
    {
      "cell_type": "code",
      "execution_count": 21,
      "metadata": {
        "colab": {
          "base_uri": "https://localhost:8080/"
        },
        "id": "G_Vhb52rU1Sn",
        "outputId": "3686cded-e646-4e8f-e5cd-6c8e0ebfc06d"
      },
      "outputs": [
        {
          "output_type": "stream",
          "name": "stdout",
          "text": [
            "--- 8.296966552734375e-05 seconds ---\n"
          ]
        }
      ],
      "source": [
        "# 13. Run the query that filters out the view ratings with average price of greater than or equal to $350,000\n",
        "# with the parquet DataFrame. Round your average to two decimal places.\n",
        "# Determine the runtime and compare it to the cached version.\n",
        "\n",
        "start_time = time.time()\n",
        "\n",
        "query_sql = \"\"\"\n",
        "SELECT (ROUND(AVG(price), 2)), view\n",
        " FROM home_sales\n",
        " GROUP BY view\n",
        " HAVING AVG(price)>=350000\n",
        " ORDER BY view desc\n",
        " \"\"\"\n",
        "\n",
        "\n",
        "print(\"--- %s seconds ---\" % (time.time() - start_time))"
      ]
    },
    {
      "cell_type": "markdown",
      "source": [
        "The runtime for the parquet data is 8.2970 compared to the runtime for the original 1.7000 and .0001 for the cached data, indicating that paraquet data is slower to run compared to both the original and cached data."
      ],
      "metadata": {
        "id": "x-RsDau5Mefw"
      }
    },
    {
      "cell_type": "code",
      "execution_count": 22,
      "metadata": {
        "id": "hjjYzQGjtbq8"
      },
      "outputs": [],
      "source": [
        "# 14. Uncache the home_sales temporary table.\n",
        "spark.catalog.uncacheTable(\"home_sales\")"
      ]
    },
    {
      "cell_type": "code",
      "execution_count": 23,
      "metadata": {
        "id": "Sy9NBvO7tlmm",
        "colab": {
          "base_uri": "https://localhost:8080/"
        },
        "outputId": "535f0bed-fba2-42c9-9e42-497b29640239"
      },
      "outputs": [
        {
          "output_type": "execute_result",
          "data": {
            "text/plain": [
              "False"
            ]
          },
          "metadata": {},
          "execution_count": 23
        }
      ],
      "source": [
        "# 15. Check if the home_sales is no longer cached\n",
        "spark.catalog.isCached('home_sales')\n"
      ]
    },
    {
      "cell_type": "code",
      "execution_count": null,
      "metadata": {
        "id": "Si-BNruRUGK3"
      },
      "outputs": [],
      "source": []
    }
  ],
  "metadata": {
    "colab": {
      "provenance": []
    },
    "gpuClass": "standard",
    "kernelspec": {
      "display_name": "Python 3 (ipykernel)",
      "language": "python",
      "name": "python3"
    },
    "language_info": {
      "codemirror_mode": {
        "name": "ipython",
        "version": 3
      },
      "file_extension": ".py",
      "mimetype": "text/x-python",
      "name": "python",
      "nbconvert_exporter": "python",
      "pygments_lexer": "ipython3",
      "version": "3.10.4"
    },
    "nteract": {
      "version": "0.28.0"
    }
  },
  "nbformat": 4,
  "nbformat_minor": 0
}